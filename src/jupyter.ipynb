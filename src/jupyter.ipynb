{
 "cells": [
  {
   "cell_type": "markdown",
   "source": [
    "# Ambientes Virtuales\n",
    "\n",
    "No simplemente estaras trabajando en un solo proyecto toda la vida, puede que estes trabajando en multiples proyectos al mismo tiempo. \n",
    "\n",
    "Tambien al tener un ambiente compartido con multiples proyectos, al estar trabajando en uno y necesites actualizar un programa, puede que al actualizar, rompas algo del código de otro proyecto que tienes.\n",
    "\n",
    "Para esto son utiles los ambientes virtuales, ya que emulan el funcionamiento de distintas computadoras.\n",
    "\n",
    "Un ambiente virtual por definición es: \"Proyecto que puede tener sus propias dependencias, independientemente de las dependencias que tengan los demás proyectos\" Scott Robinson y Real Python."
   ],
   "metadata": {}
  },
  {
   "cell_type": "markdown",
   "source": [
    "# Instalar Conda\n",
    "\n",
    "Conda es un gestor de paquetes, dependencias y entornos para cualquier lenguaje: Python, R, Ruby, Lua, Scala, Java, Javascript, C / C++, FORTRAN y más.\n",
    "\n",
    "Para utilizarlo es necesario tener o MINICONDA O ANACONDA. \n",
    "\n",
    "Lo que hay que hacer es ir anaconda y copiar el link de descarga. \n",
    "\n",
    "En la terminal poner el comando de wget el nombre con el que lo queremos guardar.sh y +link\n",
    "una vez descargado, hay que poner el comando bash + el nombre con el que lo descargamos.\n",
    "\n",
    "# miniconda\n",
    "\n",
    "- conda\n",
    "    - python.exe\n",
    "    - base modules\n",
    "\n",
    "# anaconda\n",
    "\n",
    "- miniconda\n",
    "    - 150 modules\n",
    "    - user interface"
   ],
   "metadata": {}
  },
  {
   "cell_type": "markdown",
   "source": [
    "# Pandas\n",
    "\n",
    "Sirve para trabajar con datos tabulares."
   ],
   "metadata": {}
  },
  {
   "cell_type": "markdown",
   "source": [
    "# Comandos importantes\n",
    "\n",
    "conda list = muestra los ambientes que tenemos instalados\n",
    "\n",
    "conda create --name \"nombre\" dependencias que ocupemos = va a instalar un nuevo ambiente con las dependecias que le digamos\n",
    "\n",
    "conda activate py35 = activa el ambiente que le digamos\n",
    "\n",
    "conda deactivate = desactiva el ambiente en el que estamos trabajando.\n",
    "\n",
    "conda env list = muestra la lista de los ambientes creados\n",
    "\n",
    "conda remove dependecia = elimina la dependencia instalada en nuestro ambiente\n",
    "\n",
    "conda env remove --name py35 = elimina el ambiente que le digamos, despues --name va el nombre.\n",
    "\n",
    "conda install --channel +el nombre del canal +la dependencia que necesitamos.\n",
    "\n",
    "conda list --revision nos dice que revisiones tenemos y que cambios hicimos en cada una de ellas.\n",
    "\n",
    "conda install --revision +nombre de la revision nos ayuda a instalar la version de la revision que queremos.\n",
    "\n",
    "conda env export nos permite compartir el ambiente que tenemos\n",
    "\n",
    "conda env export --no-builds remueve texto innecesario de los builds.\n",
    "\n",
    "conda env export --from-history exporta las dependencias que especificamos manualmente anteriormente.\n",
    "\n",
    "conda env --from-history --file environment.yml nos guarda el ambiente en un archivo .yml"
   ],
   "metadata": {}
  },
  {
   "cell_type": "markdown",
   "source": [
    "# Como utilizar conda correctamente\n",
    "\n",
    "Un dia queremos usar una dependencia de conda, entonces si lo queremos instalar y no aparece, el mismo anaconda nos da una opcion de buscar la dependencia en una pagina de internet. En esa pagina que es como google, nos dice en que canales podemos encontrar la dependencia que queremos. \n",
    "\n",
    "Para instalar un canal hay que poner el comando conda install --channel +el nombre del canal +la dependencia que necesitamos.\n",
    "\n",
    "Para revisar que revisiones existen hay que meter el comando conda list --revision y nos dice que hicimos en esas revisiones. Esto nos sirve si queremos regresar en el tiempo para cualquier cambio que hayamos hecho.\n",
    "\n",
    "Para poner esa revision hay que poner conda install --revision +nombre de la revision.\n",
    "\n",
    "Con conda podemos compartir nuestros environments con el comando conda env export."
   ],
   "metadata": {}
  },
  {
   "cell_type": "code",
   "execution_count": 1,
   "source": [
    "print('Hola Julian')"
   ],
   "outputs": [
    {
     "output_type": "stream",
     "name": "stdout",
     "text": [
      "Hola Julian\n"
     ]
    }
   ],
   "metadata": {}
  }
 ],
 "metadata": {
  "orig_nbformat": 4,
  "language_info": {
   "name": "python",
   "version": "3.9.7",
   "mimetype": "text/x-python",
   "codemirror_mode": {
    "name": "ipython",
    "version": 3
   },
   "pygments_lexer": "ipython3",
   "nbconvert_exporter": "python",
   "file_extension": ".py"
  },
  "kernelspec": {
   "name": "python3",
   "display_name": "Python 3.9.7 64-bit ('py39': conda)"
  },
  "interpreter": {
   "hash": "d02c60579dd1cb836f4512527e41a20ea1e638bc767c65df5a3f0bae0a537e75"
  }
 },
 "nbformat": 4,
 "nbformat_minor": 2
}